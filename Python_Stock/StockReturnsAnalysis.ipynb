{
  "cells": [
    {
      "cell_type": "markdown",
      "metadata": {},
      "source": [
        "# Stock and Benchmark Returns Analysis"
      ]
    },
    {
      "cell_type": "code",
      "execution_count": null,
      "metadata": {
        "collapsed": false,
        "inputHidden": false,
        "outputHidden": false
      },
      "outputs": [],
      "source": [
        "import numpy as np\n",
        "import pandas as pd\n",
        "import matplotlib.pyplot as plt\n",
        "\n",
        "import math\n",
        "import scipy.stats as scs\n",
        "from scipy import stats\n",
        "import statsmodels.api as sm\n",
        "\n",
        "import warnings\n",
        "warnings.filterwarnings(\"ignore\")\n",
        "\n",
        "# yfinance is used to fetch data \n",
        "import yfinance as yf\n",
        "yf.pdr_override()"
      ]
    },
    {
      "cell_type": "code",
      "execution_count": null,
      "metadata": {
        "collapsed": false,
        "inputHidden": false,
        "outputHidden": false
      },
      "outputs": [],
      "source": [
        "# input\n",
        "market = \"SPY\"\n",
        "symbol = 'VGT'\n",
        "start = '2010-01-01'\n",
        "end = '2024-01-11'\n",
        "\n",
        "# Read data \n",
        "data = yf.download(symbol,start,end)\n",
        "stock_market = yf.download(market, start, end)"
      ]
    },
    {
      "cell_type": "code",
      "execution_count": null,
      "metadata": {
        "collapsed": false,
        "inputHidden": false,
        "outputHidden": false
      },
      "outputs": [],
      "source": [
        "from datetime import datetime\n",
        "\n",
        "def days_between(start, end):\n",
        "    start = datetime.strptime(start, \"%Y-%m-%d\")\n",
        "    end = datetime.strptime(end, \"%Y-%m-%d\")\n",
        "    n = abs((end - start).days)\n",
        "    return n\n",
        "\n",
        "days_between(start, end)"
      ]
    },
    {
      "cell_type": "code",
      "execution_count": null,
      "metadata": {
        "collapsed": false,
        "inputHidden": false,
        "outputHidden": false
      },
      "outputs": [],
      "source": [
        "start = datetime.strptime(start, \"%Y-%m-%d\")\n",
        "end = datetime.strptime(end, \"%Y-%m-%d\")\n",
        "n = abs((end - start).days)"
      ]
    },
    {
      "cell_type": "code",
      "execution_count": null,
      "metadata": {
        "collapsed": false,
        "inputHidden": false,
        "outputHidden": false
      },
      "outputs": [],
      "source": [
        "data.head()\n"
      ]
    },
    {
      "cell_type": "code",
      "execution_count": null,
      "metadata": {},
      "outputs": [],
      "source": [
        "data.tail()"
      ]
    },
    {
      "cell_type": "code",
      "execution_count": null,
      "metadata": {
        "collapsed": false,
        "inputHidden": false,
        "outputHidden": false
      },
      "outputs": [],
      "source": [
        "stock_market.head()\n"
      ]
    },
    {
      "cell_type": "code",
      "execution_count": null,
      "metadata": {},
      "outputs": [],
      "source": [
        "stock_market.tail()"
      ]
    },
    {
      "cell_type": "code",
      "execution_count": null,
      "metadata": {
        "collapsed": false,
        "inputHidden": false,
        "outputHidden": false
      },
      "outputs": [],
      "source": [
        "rf = 0.01\n",
        "close_px = data['Adj Close']\n",
        "returns = close_px.pct_change().dropna()\n",
        "\n",
        "p = np.array(data['Adj Close'])\n",
        "mp = np.array(stock_market['Adj Close'])\n",
        "\n",
        "dollar_vol = np.array(data['Volume'] * p)\n",
        "market_dollar_vol = np.array(stock_market['Volume'] * mp)\n",
        "\n",
        "# Assuming you want to align the benchmark with 'returns'\n",
        "benchmark = stock_market['Adj Close'].pct_change().dropna().reindex(returns.index)\n",
        "# Alternatively, you can use the following line if the index of 'returns' and 'benchmark' are different\n",
        "# benchmark = stock_market['Adj Close'].pct_change().dropna().reindex(returns.index, method='bfill')\n",
        "\n",
        "excess_returns = np.array(returns) - np.array(benchmark)"
      ]
    },
    {
      "cell_type": "code",
      "execution_count": null,
      "metadata": {
        "collapsed": false,
        "inputHidden": false,
        "outputHidden": false
      },
      "outputs": [],
      "source": []
    },
    {
      "cell_type": "code",
      "execution_count": null,
      "metadata": {
        "collapsed": false,
        "inputHidden": false,
        "outputHidden": false
      },
      "outputs": [],
      "source": []
    },
    {
      "cell_type": "code",
      "execution_count": null,
      "metadata": {
        "collapsed": false,
        "inputHidden": false,
        "outputHidden": false
      },
      "outputs": [],
      "source": []
    },
    {
      "cell_type": "code",
      "execution_count": null,
      "metadata": {
        "collapsed": false,
        "inputHidden": false,
        "outputHidden": false
      },
      "outputs": [],
      "source": [
        "data['returns'] = data[ 'Adj Close'].pct_change().dropna()\n",
        "benchmark['returns'] = stock_market['Adj Close'].pct_change().dropna()"
      ]
    },
    {
      "cell_type": "code",
      "execution_count": null,
      "metadata": {
        "collapsed": false,
        "inputHidden": false,
        "outputHidden": false
      },
      "outputs": [],
      "source": [
        "data['rea_var'] = 252 * np.cumsum(data['returns']**2) / np.arange(len(data))\n",
        "data['rea_vol'] = np.sqrt(data['rea_var'])"
      ]
    },
    {
      "cell_type": "markdown",
      "metadata": {},
      "source": [
        "Alpha is measure of performance on a risk-adjusted basis\n",
        "Alpha also known as \"Jensen index\".\n",
        "\n",
        "Beta is a measure of the volatility, or systematic risk or of a secruity or a portfolio. Beta is used in the capital asset pricing model (CAPM), a model that calculates the expected return of an asset based on its beta and expected market returns.\n",
        "\n",
        "R-Squared is a statisitcal measure that represents the percentage of a fund or security's movements that can be explained by movements in a benchmark index (S&P 500)."
      ]
    },
    {
      "cell_type": "code",
      "execution_count": null,
      "metadata": {
        "collapsed": false,
        "inputHidden": false,
        "outputHidden": false
      },
      "outputs": [],
      "source": [
        "def adj_close_statistics(close_px):\n",
        "\tsta = scs.describe(close_px)\n",
        "\tprint(\"%14s %15s\" % ('statistic', 'value'))\n",
        "\tprint(30 * \"-\")\n",
        "\tprint(\"%14s %15.5f\" % ('size', sta[0]))\n",
        "\tprint(\"%14s %15.5f\" % ('min', sta[1][0]))\n",
        "\tprint(\"%14s %15.5f\" % ('max', sta[1][1]))\n",
        "\tprint(\"%14s %15.5f\" % ('mean', sta[2]))\n",
        "\tprint(\"%14s %15.5f\" % ('std', np.sqrt(sta[3])))\n",
        "\tprint(\"%14s %15.5f\" % ('skew', sta[4]))\n",
        "\tprint(\"%14s %15.5f\" % ('kurtosis', sta[5]))\n",
        "    \n",
        "adj_close_statistics(close_px)    "
      ]
    },
    {
      "cell_type": "code",
      "execution_count": null,
      "metadata": {
        "collapsed": false,
        "inputHidden": false,
        "outputHidden": false
      },
      "outputs": [],
      "source": [
        "def print_stock_statistics(data):\n",
        "    print(\"RETURN SAMPLE STATISTICS\")\n",
        "    print(\"---------------------------------------------\")\n",
        "    print(\"Mean of Daily  Log Returns %9.6f\" % np.mean(returns))\n",
        "    print(\"Std  of Daily  Log Returns %9.6f\" % np.std(returns))\n",
        "    print(\"Mean of Annua. Log Returns %9.6f\" % (np.mean(returns) * 252))\n",
        "    print(\"Std  of Annua. Log Returns %9.6f\" % (np.std(returns) * math.sqrt(252)))\n",
        "    print(\"---------------------------------------------\")\n",
        "    print(\"Skew of Sample Log Returns %9.6f\" % scs.skew(returns))\n",
        "    print(\"Skew Normal Test p-value   %9.6f\" % scs.skewtest(returns)[1])\n",
        "    print(\"---------------------------------------------\")\n",
        "    print(\"Kurt of Sample Log Returns %9.6f\" % scs.kurtosis(returns))\n",
        "    print(\"Kurt Normal Test p-value   %9.6f\" % \\\n",
        "                scs.kurtosistest(returns)[1])\n",
        "    print(\"---------------------------------------------\")\n",
        "    print(\"Normal Test p-value        %9.6f\" % \\\n",
        "                scs.normaltest(returns)[1])\n",
        "    print(\"---------------------------------------------\")\n",
        "    print(\"Realized Volatility        %9.6f\" % data['rea_vol'].iloc[-1])\n",
        "    print(\"Realized Variance          %9.6f\" % data['rea_var'].iloc[-1])\n",
        "    print(\"---------------------------------------------\")\n",
        "    print(\"Anderson Normality Test:\t\t   \")\n",
        "    print(stats.anderson(returns))\n",
        "    print(\"---------------------------------------------\")\n",
        "    print(\"Shapiro_Wilk Test: \t\t      \t\t\t\")\n",
        "    print(stats.shapiro(returns))\n",
        "    print(\"Sharpe Ratio of Daily Returns:  \t\t\t\")\n",
        "    print(\"{0:.8f}\".format(np.mean(returns) / np.std(returns)))\n",
        "    print(\"Trading Sharpe for Daily:      \t\t\t\")\n",
        "    print(\"{0:.8f}\".format((n*6.5) * (np.mean(returns)-rf // np.std(returns)*np.sqrt(n*6.5))))\n",
        "    print(\"Sharpe of Annua. Returns w/ days:      \t\")\n",
        "    print(\"{0:.8f}\".format((252) * (np.mean(returns)-rf // np.std(returns)*np.sqrt(252))))\n",
        "    print(\"Sharpe of Annua. Returns w/ days & hours:\")\n",
        "    print(\"{0:.8f}\".format((252*6.5) * (np.mean(returns)-rf // np.std(returns)*np.sqrt(252*6.5))))\n",
        "    print(\"---------------------------------------------\")\n",
        "    print(\"Amihud Illiquidity \t\t  %9.6g\" % np.mean(np.divide(abs(returns),dollar_vol[1:])))\n",
        "    print(\"---------------------------------------------\")\n",
        "    print(\"Kelly Formula:\t\t\t       \")\n",
        "    print(\"{0:.8f}\".format(np.mean(returns) - rf // (np.std(returns))**2))\n",
        "    print(\"Compounded Levered Return: \t   \")\n",
        "    print(\"{0:.8f}\".format(rf + (((252) * (np.mean(returns)-rf / np.std(returns)*np.sqrt(252)))**2) // 2))\n",
        "    print(\"Compounded Unlevered Return:    \")\n",
        "    print(\"{0:.8f}\".format(((np.mean(returns))*252)-(((np.std(returns))*np.sqrt(252))**2) // 2))\n",
        "    return\n",
        "\n",
        "print_stock_statistics(data)"
      ]
    },
    {
      "cell_type": "code",
      "execution_count": null,
      "metadata": {
        "collapsed": false,
        "inputHidden": false,
        "outputHidden": false
      },
      "outputs": [],
      "source": [
        "def print_market_information(benchmark):\n",
        "    print(\"RETURN BENCHMARK STATISTICS\")\n",
        "    print(\"---------------------------------------------\")\n",
        "    print(\"Mean of Daily  Log Returns %9.6f\" % np.mean(benchmark['returns']))\n",
        "    print(\"Std  of Daily  Log Returns %9.6f\" % np.std(benchmark['returns']))\n",
        "    print(\"Mean of Annua. Log Returns %9.6f\" % (np.mean(benchmark['returns']) * 252))\n",
        "    print(\"Std  of Annua. Log Returns %9.6f\" % (np.std(benchmark['returns']) * math.sqrt(252)))\n",
        "    print(\"---------------------------------------------\")\n",
        "    print(\"Skew of Sample Log Returns %9.6f\" % scs.skew(benchmark['returns']))\n",
        "    print(\"Skew Normal Test p-value   %9.6f\" % scs.skewtest(benchmark['returns'])[1])\n",
        "    print(\"---------------------------------------------\")\n",
        "    print(\"Kurt of Sample Log Returns %9.6f\" % scs.kurtosis(benchmark['returns']))\n",
        "    print(\"Kurt Normal Test p-value   %9.6f\" % scs.kurtosistest(benchmark['returns'])[1])\n",
        "    print(\"---------------------------------------------\")\n",
        "    print(\"Normal Test p-value        %9.6f\" % scs.normaltest(benchmark['returns'])[1])\n",
        "    print(\"---------------------------------------------\")\n",
        "    print(\"Anderson Normality Test:\t\t   \")\n",
        "    print(stats.anderson(benchmark['returns']))\n",
        "    return\n",
        "\n",
        "print_market_information(benchmark)"
      ]
    },
    {
      "cell_type": "code",
      "execution_count": null,
      "metadata": {
        "collapsed": false,
        "inputHidden": false,
        "outputHidden": false
      },
      "outputs": [],
      "source": [
        "def linreg(returns, benchmark_returns):\n",
        "    X = benchmark_returns\n",
        "    y = returns\n",
        "    beta, intercept, r_squared, p_value, std_err = stats.linregress(X, y)\n",
        "    alpha = np.mean(y) - beta * np.mean(X)\n",
        "    print(\"alpha \t= \", alpha)\n",
        "    print(\"beta  \t= \", beta)\n",
        "    print(\"r_squared\t= \", r_squared)\n",
        "    return beta, alpha, r_squared\n",
        "\n",
        "def print_market_stock(returns, benchmark):\n",
        "\ty = returns\n",
        "\tx = benchmark\n",
        "\tx = sm.add_constant(x)\n",
        "\tmodel = sm.OLS(y,x)\n",
        "\tresults = model.fit()\n",
        "\tprint(results.summary())\n",
        "\t\n",
        "# daily quotes and log returns\n",
        "def quotes_returns(returns):\n",
        "    ''' Plots quotes and returns. '''\n",
        "    plt.figure(figsize=(9, 6))\n",
        "    data['returns'].plot()\n",
        "    plt.title('Stock Daily Returns')\n",
        "    plt.ylabel('Daily log returns')\n",
        "    plt.grid(True)\n",
        "    plt.axis('tight')\n",
        "\n",
        "# histogram of annualized daily log returns\n",
        "def return_histogram(returns):\n",
        "    ''' Plots a histogram of the returns. '''\n",
        "    plt.figure(figsize=(9, 5))\n",
        "    x = np.linspace(min(returns), max(returns), 100)\n",
        "    plt.hist(np.array(returns), bins=50, normed=True)\n",
        "    y = dN(x, np.mean(returns), np.std(returns))\n",
        "    plt.plot(x, y, linewidth=2)\n",
        "    plt.xlabel('Log Returns')\n",
        "    plt.ylabel('Frequency/Probability')\n",
        "    plt.grid(True)\n",
        "\n",
        "# Q-Q plot of annualized daily log returns\n",
        "def return_qqplot(returns):\n",
        "    ''' Generates a Q-Q plot of the returns.'''\n",
        "    plt.figure(figsize=(9, 5))\n",
        "    sm.qqplot(returns, line='s')\n",
        "    plt.grid(True)\n",
        "    plt.title('Q-Q of Annualized Daily Log Returns')\n",
        "    plt.xlabel('Theoretical Quantiles')\n",
        "    plt.ylabel('Sample Quantiles')\n",
        "\n",
        "\n",
        "# realized volatility\n",
        "def realized_volatility(returns):\n",
        "    ''' Plots the realized volatility. '''\n",
        "    plt.figure(figsize=(9, 5))\n",
        "    data['rea_vol'].plot()\n",
        "    plt.title('Stock Volatility')\n",
        "    plt.ylabel('Realized Volatility')\n",
        "    plt.grid(True)\n",
        "\n",
        "# mean return, volatility and correlation (252 days moving = 1 year)\n",
        "def rolling_statistics(returns):\n",
        "    ''' Calculates and plots rolling statistics (mean, std, correlation). '''\n",
        "    plt.figure(figsize=(11, 8))\n",
        "    \n",
        "    plt.subplot(311)\n",
        "    mr = returns.rolling(252).mean() * 252\n",
        "    mr.plot()\n",
        "    plt.grid(True)\n",
        "    plt.ylabel('returns (252d)')\n",
        "    plt.axhline(mr.mean(), color='r', ls='dashed', lw=1.5)\n",
        "\n",
        "    plt.subplot(312)\n",
        "    vo = returns.rolling(252).std() * math.sqrt(252)\n",
        "    vo.plot()\n",
        "    plt.grid(True)\n",
        "    plt.ylabel('volatility (252d)')\n",
        "    plt.axhline(vo.mean(), color='r', ls='dashed', lw=1.5)\n",
        "    vx = plt.axis()\n",
        "\n",
        "    plt.subplot(313)\n",
        "    co = mr.rolling(252).corr(vo, 252)\n",
        "    co.plot()\n",
        "    plt.grid(True)\n",
        "    plt.ylabel('correlation (252d)')\n",
        "    cx = plt.axis()\n",
        "    plt.axis([vx[0], vx[1], cx[2], cx[3]])\n",
        "    plt.axhline(co.mean(), color='r', ls='dashed', lw=1.5)\n",
        "\t\n",
        "if __name__ == '__main__':\n",
        "    linreg(returns, benchmark['returns'])\n",
        "    print_market_stock(returns, benchmark['returns'])\n",
        "    quotes_returns(returns)\n",
        "    return_qqplot(returns)\n",
        "    realized_volatility(returns)\n",
        "    rolling_statistics(returns)"
      ]
    }
  ],
  "metadata": {
    "kernel_info": {
      "name": "python3"
    },
    "kernelspec": {
      "display_name": "Python 3",
      "language": "python",
      "name": "python3"
    },
    "language_info": {
      "codemirror_mode": {
        "name": "ipython",
        "version": 3
      },
      "file_extension": ".py",
      "mimetype": "text/x-python",
      "name": "python",
      "nbconvert_exporter": "python",
      "pygments_lexer": "ipython3",
      "version": "3.12.1"
    },
    "nteract": {
      "version": "0.15.0"
    }
  },
  "nbformat": 4,
  "nbformat_minor": 4
}
