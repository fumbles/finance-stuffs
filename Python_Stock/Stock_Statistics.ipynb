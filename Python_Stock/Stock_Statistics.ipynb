{
  "cells": [
    {
      "cell_type": "markdown",
      "metadata": {},
      "source": [
        "# Stock Statistics"
      ]
    },
    {
      "cell_type": "markdown",
      "metadata": {},
      "source": [
        "Statistics is a branch of applied mathematics concerned with collecting, organizing, and interpreting data. Statistics is also the mathematical study of the likelihood and probability of events occurring based on known quantitative data or a collection of data.\n",
        "\n",
        "http://www.icoachmath.com/math_dictionary/Statistics"
      ]
    },
    {
      "cell_type": "code",
      "execution_count": 61,
      "metadata": {
        "collapsed": false,
        "inputHidden": false,
        "outputHidden": false
      },
      "outputs": [],
      "source": [
        "import numpy as np\n",
        "import pandas as pd\n",
        "import scipy.stats as stats\n",
        "import matplotlib.pyplot as plt\n",
        "\n",
        "import warnings\n",
        "warnings.filterwarnings(\"ignore\")\n",
        "\n",
        "# yfinance is used to fetch data \n",
        "import yfinance as yf\n",
        "yf.pdr_override()"
      ]
    },
    {
      "cell_type": "code",
      "execution_count": 77,
      "metadata": {
        "collapsed": false,
        "inputHidden": false,
        "outputHidden": false
      },
      "outputs": [
        {
          "name": "stderr",
          "output_type": "stream",
          "text": [
            "[*********************100%%**********************]  1 of 1 completed\n",
            "[*********************100%%**********************]  1 of 1 completed"
          ]
        },
        {
          "name": "stderr",
          "output_type": "stream",
          "text": [
            "\n",
            "[*********************100%%**********************]  1 of 1 completed\n"
          ]
        }
      ],
      "source": [
        "# input\n",
        "symbols = ['BITI', 'BITO']\n",
        "start = '2014-01-01'\n",
        "end = '2024-01-11'\n",
        "\n",
        "# Read data \n",
        "#df = yf.download(symbol,start,end)\n",
        "for symbol in symbols:\n",
        "    df = yf.download(symbol,start,end)\n",
        "    # View Columns\n",
        "    df.head()"
      ]
    },
    {
      "cell_type": "code",
      "execution_count": 63,
      "metadata": {},
      "outputs": [
        {
          "data": {
            "text/html": [
              "<div>\n",
              "<style scoped>\n",
              "    .dataframe tbody tr th:only-of-type {\n",
              "        vertical-align: middle;\n",
              "    }\n",
              "\n",
              "    .dataframe tbody tr th {\n",
              "        vertical-align: top;\n",
              "    }\n",
              "\n",
              "    .dataframe thead th {\n",
              "        text-align: right;\n",
              "    }\n",
              "</style>\n",
              "<table border=\"1\" class=\"dataframe\">\n",
              "  <thead>\n",
              "    <tr style=\"text-align: right;\">\n",
              "      <th></th>\n",
              "      <th>Open</th>\n",
              "      <th>High</th>\n",
              "      <th>Low</th>\n",
              "      <th>Close</th>\n",
              "      <th>Adj Close</th>\n",
              "      <th>Volume</th>\n",
              "    </tr>\n",
              "    <tr>\n",
              "      <th>Date</th>\n",
              "      <th></th>\n",
              "      <th></th>\n",
              "      <th></th>\n",
              "      <th></th>\n",
              "      <th></th>\n",
              "      <th></th>\n",
              "    </tr>\n",
              "  </thead>\n",
              "  <tbody>\n",
              "    <tr>\n",
              "      <th>2024-01-04</th>\n",
              "      <td>12.67</td>\n",
              "      <td>12.71</td>\n",
              "      <td>12.195</td>\n",
              "      <td>12.42</td>\n",
              "      <td>12.42</td>\n",
              "      <td>1669200</td>\n",
              "    </tr>\n",
              "    <tr>\n",
              "      <th>2024-01-05</th>\n",
              "      <td>12.54</td>\n",
              "      <td>12.76</td>\n",
              "      <td>12.370</td>\n",
              "      <td>12.50</td>\n",
              "      <td>12.50</td>\n",
              "      <td>1785800</td>\n",
              "    </tr>\n",
              "    <tr>\n",
              "      <th>2024-01-08</th>\n",
              "      <td>12.20</td>\n",
              "      <td>12.29</td>\n",
              "      <td>11.540</td>\n",
              "      <td>11.66</td>\n",
              "      <td>11.66</td>\n",
              "      <td>4545200</td>\n",
              "    </tr>\n",
              "    <tr>\n",
              "      <th>2024-01-09</th>\n",
              "      <td>11.70</td>\n",
              "      <td>11.80</td>\n",
              "      <td>11.640</td>\n",
              "      <td>11.75</td>\n",
              "      <td>11.75</td>\n",
              "      <td>2360900</td>\n",
              "    </tr>\n",
              "    <tr>\n",
              "      <th>2024-01-10</th>\n",
              "      <td>12.10</td>\n",
              "      <td>12.27</td>\n",
              "      <td>11.738</td>\n",
              "      <td>11.91</td>\n",
              "      <td>11.91</td>\n",
              "      <td>6102800</td>\n",
              "    </tr>\n",
              "  </tbody>\n",
              "</table>\n",
              "</div>"
            ],
            "text/plain": [
              "             Open   High     Low  Close  Adj Close   Volume\n",
              "Date                                                       \n",
              "2024-01-04  12.67  12.71  12.195  12.42      12.42  1669200\n",
              "2024-01-05  12.54  12.76  12.370  12.50      12.50  1785800\n",
              "2024-01-08  12.20  12.29  11.540  11.66      11.66  4545200\n",
              "2024-01-09  11.70  11.80  11.640  11.75      11.75  2360900\n",
              "2024-01-10  12.10  12.27  11.738  11.91      11.91  6102800"
            ]
          },
          "execution_count": 63,
          "metadata": {},
          "output_type": "execute_result"
        }
      ],
      "source": [
        "df.tail()"
      ]
    },
    {
      "cell_type": "code",
      "execution_count": 64,
      "metadata": {
        "collapsed": false,
        "inputHidden": false,
        "outputHidden": false
      },
      "outputs": [],
      "source": [
        "\n",
        "returns = df['Adj Close'].pct_change()[1:].dropna()"
      ]
    },
    {
      "cell_type": "markdown",
      "metadata": {},
      "source": [
        "### Mean is the average number, sum of the values divided by the number of values.\n",
        "### Median is the middle value in the list of numbers.\n",
        "### Mode is the value that occurs often."
      ]
    },
    {
      "cell_type": "code",
      "execution_count": 65,
      "metadata": {
        "collapsed": false,
        "inputHidden": false,
        "outputHidden": false
      },
      "outputs": [
        {
          "name": "stdout",
          "output_type": "stream",
          "text": [
            "Mean of returns: -0.002411526810862025\n",
            "Median of returns: -0.0009087048660860741\n",
            "Median Low of returns: -0.0009087048660860741\n",
            "Median High of returns: -0.0009087048660860741\n",
            "Median Grouped of returns: -0.0009087048660860741\n",
            "Mode of returns: 0.0\n"
          ]
        }
      ],
      "source": [
        "import statistics as st\n",
        "\n",
        "print('Mean of returns:', st.mean(returns))\n",
        "print('Median of returns:', st.median(returns))\n",
        "print('Median Low of returns:', st.median_low(returns))\n",
        "print('Median High of returns:', st.median_high(returns))\n",
        "print('Median Grouped of returns:', st.median_grouped(returns))\n",
        "print('Mode of returns:', st.mode(returns))"
      ]
    },
    {
      "cell_type": "code",
      "execution_count": 66,
      "metadata": {
        "collapsed": false,
        "inputHidden": false,
        "outputHidden": false
      },
      "outputs": [
        {
          "name": "stdout",
          "output_type": "stream",
          "text": [
            "Mode of returns: 0.0\n",
            "Mode of bins: [(-0.008680305472877459, 0.009167314739858268)]\n"
          ]
        }
      ],
      "source": [
        "from statistics import mode\n",
        "\n",
        "print('Mode of returns:', mode(returns))\n",
        "# Since all of the returns are distinct, we use a frequency distribution to get an alternative mode.\n",
        "# np.histogram returns the frequency distribution over the bins as well as the endpoints of the bins\n",
        "hist, bins = np.histogram(returns, 20) # Break data up into 20 bins\n",
        "maxfreq = max(hist)\n",
        "# Find all of the bins that are hit with frequency maxfreq, then print the intervals corresponding to them\n",
        "print('Mode of bins:', [(bins[i], bins[i+1]) for i, j in enumerate(hist) if j == maxfreq])"
      ]
    },
    {
      "cell_type": "markdown",
      "metadata": {},
      "source": [
        "### Arithmetic Average Returns is average return on the the stock or investment"
      ]
    },
    {
      "cell_type": "code",
      "execution_count": 67,
      "metadata": {
        "collapsed": false,
        "inputHidden": false,
        "outputHidden": false
      },
      "outputs": [
        {
          "name": "stdout",
          "output_type": "stream",
          "text": [
            "Arithmetic average of returns:\n",
            "\n",
            "-0.002411526810862025\n"
          ]
        }
      ],
      "source": [
        "print('Arithmetic average of returns:\\n')\n",
        "print(returns.mean())"
      ]
    },
    {
      "cell_type": "markdown",
      "metadata": {},
      "source": [
        "### Geometric mean is the average of a set of products, the calculation of which is commonly used to determine the performance results of an investment or portfolio. It is technically defined as \"the nth root product of n numbers.\" The geometric mean must be used when working with percentages, which are derived from values, while the standard arithmetic mean works with the values themselves.  \n",
        "\n",
        "https://www.investopedia.com/terms/h/harmonicaverage.asp"
      ]
    },
    {
      "cell_type": "code",
      "execution_count": 68,
      "metadata": {
        "collapsed": false,
        "inputHidden": false,
        "outputHidden": false
      },
      "outputs": [
        {
          "name": "stdout",
          "output_type": "stream",
          "text": [
            "Geometric mean of stock: nan\n"
          ]
        }
      ],
      "source": [
        "# Geometric mean\n",
        "from scipy.stats.mstats import gmean\n",
        "print('Geometric mean of stock:', gmean(returns))"
      ]
    },
    {
      "cell_type": "code",
      "execution_count": 69,
      "metadata": {
        "collapsed": false,
        "inputHidden": false,
        "outputHidden": false
      },
      "outputs": [
        {
          "name": "stdout",
          "output_type": "stream",
          "text": [
            "Geometric mean of returns: -0.0030387513775171904\n"
          ]
        }
      ],
      "source": [
        "ratios = returns + np.ones(len(returns))\n",
        "R_G = gmean(ratios) - 1\n",
        "print('Geometric mean of returns:', R_G)"
      ]
    },
    {
      "cell_type": "markdown",
      "metadata": {},
      "source": [
        "### Standard deviation of returns is the risk of returns"
      ]
    },
    {
      "cell_type": "code",
      "execution_count": 70,
      "metadata": {
        "collapsed": false,
        "inputHidden": false,
        "outputHidden": false
      },
      "outputs": [
        {
          "name": "stdout",
          "output_type": "stream",
          "text": [
            "Standard deviation of returns\n",
            "0.03508749749951356\n"
          ]
        }
      ],
      "source": [
        "print('Standard deviation of returns')\n",
        "print(returns.std())"
      ]
    },
    {
      "cell_type": "code",
      "execution_count": 71,
      "metadata": {
        "collapsed": false,
        "inputHidden": false,
        "outputHidden": false
      },
      "outputs": [
        {
          "name": "stdout",
          "output_type": "stream",
          "text": [
            "Initial price: 39.14759826660156\n",
            "Final price: 11.90999984741211\n",
            "Final price as computed with R_G: 11.909999847412669\n"
          ]
        }
      ],
      "source": [
        "T = len(returns)\n",
        "init_price = df['Adj Close'][0]\n",
        "final_price = df['Adj Close'][T]\n",
        "print('Initial price:', init_price)\n",
        "print('Final price:', final_price)\n",
        "print('Final price as computed with R_G:', init_price*(1 + R_G)**T)"
      ]
    },
    {
      "cell_type": "markdown",
      "metadata": {},
      "source": [
        "### Harmonic Mean is numerical average. \n",
        "\n",
        "Formula: A set of n numbers, add the reciprocals of the numbers in the set, divide the sum by n, then take the reciprocal of the result."
      ]
    },
    {
      "cell_type": "code",
      "execution_count": 72,
      "metadata": {
        "collapsed": false,
        "inputHidden": false,
        "outputHidden": false
      },
      "outputs": [
        {
          "name": "stdout",
          "output_type": "stream",
          "text": [
            "Harmonic mean of returns: 0.0\n"
          ]
        }
      ],
      "source": [
        "# Harmonic mean\n",
        "\n",
        "print('Harmonic mean of returns:', len(returns)/np.sum(1.0/returns))"
      ]
    },
    {
      "cell_type": "code",
      "execution_count": 73,
      "metadata": {
        "collapsed": false,
        "inputHidden": false,
        "outputHidden": false
      },
      "outputs": [
        {
          "name": "stdout",
          "output_type": "stream",
          "text": [
            "Skew: -0.5889978256168351\n",
            "Mean: -0.002411526810862025\n",
            "Median: -0.0009087048660860741\n"
          ]
        },
        {
          "data": {
            "image/png": "[encoded data removed]",
            "text/plain": [
              "<Figure size 640x480 with 1 Axes>"
            ]
          },
          "metadata": {},
          "output_type": "display_data"
        }
      ],
      "source": [
        "print('Skew:', stats.skew(returns))\n",
        "print('Mean:', np.mean(returns))\n",
        "print('Median:', np.median(returns))\n",
        "\n",
        "plt.hist(returns, 30); "
      ]
    },
    {
      "cell_type": "code",
      "execution_count": 74,
      "metadata": {
        "collapsed": false,
        "inputHidden": false,
        "outputHidden": false
      },
      "outputs": [
        {
          "name": "stdout",
          "output_type": "stream",
          "text": [
            "Excess kurtosis of leptokurtic distribution: (array([-0.06868867, -0.31556021, -1.81736508, ...,  0.68477894,\n",
            "       -0.13102533,  0.65429871]), array([2., 2., 2., ..., 2., 2., 2.]))\n",
            "Excess kurtosis of mesokurtic distribution: (array([-0.06868867, -0.31556021, -1.81736508, ...,  0.68477894,\n",
            "       -0.13102533,  0.65429871]), array([1., 1., 1., ..., 1., 1., 1.]))\n",
            "Excess kurtosis of platykurtic distribution: (array([-0.06868867, -0.31556021, -1.81736508, ...,  0.68477894,\n",
            "       -0.13102533,  0.65429871]), array([1.28986813, 1.28986813, 1.28986813, ..., 1.28986813, 1.28986813,\n",
            "       1.28986813]))\n"
          ]
        },
        {
          "data": {
            "image/png": "[encoded data removed]",
            "text/plain": [
              "<Figure size 640x480 with 1 Axes>"
            ]
          },
          "metadata": {},
          "output_type": "display_data"
        }
      ],
      "source": [
        "# Assuming 'returns' is your array of stock returns\n",
        "returns = np.random.normal(size=2522)  # Replace this with your actual returns\n",
        "\n",
        "# Plot some example distributions of stock's returns\n",
        "xs = np.linspace(-6, 6, 2522)  # Use the same length as the 'returns' array\n",
        "normal = stats.norm.pdf(xs)\n",
        "plt.plot(returns, stats.laplace.pdf(xs), label='Leptokurtic')\n",
        "print('Excess kurtosis of leptokurtic distribution:', (stats.laplace.stats(returns)))\n",
        "plt.plot(returns, normal, label='Mesokurtic (normal)')\n",
        "print('Excess kurtosis of mesokurtic distribution:', (stats.norm.stats(returns)))\n",
        "plt.plot(returns, stats.cosine.pdf(xs), label='Platykurtic')\n",
        "print('Excess kurtosis of platykurtic distribution:', (stats.cosine.stats(returns)))\n",
        "plt.legend()\n",
        "\n",
        "plt.show()"
      ]
    },
    {
      "cell_type": "code",
      "execution_count": 75,
      "metadata": {
        "collapsed": false,
        "inputHidden": false,
        "outputHidden": false
      },
      "outputs": [
        {
          "name": "stdout",
          "output_type": "stream",
          "text": [
            "Excess kurtosis of returns:  -0.034486817323409635\n"
          ]
        }
      ],
      "source": [
        "print(\"Excess kurtosis of returns: \", stats.kurtosis(returns))"
      ]
    },
    {
      "cell_type": "code",
      "execution_count": 76,
      "metadata": {
        "collapsed": false,
        "inputHidden": false,
        "outputHidden": false
      },
      "outputs": [
        {
          "name": "stdout",
          "output_type": "stream",
          "text": [
            "The returns are likely normal.\n"
          ]
        }
      ],
      "source": [
        "from statsmodels.stats.stattools import jarque_bera\n",
        "\n",
        "_, pvalue, _, _ = jarque_bera(returns)\n",
        "\n",
        "if pvalue > 0.05:\n",
        "    print('The returns are likely normal.')\n",
        "else:\n",
        "    print('The returns are likely not normal.')"
      ]
    }
  ],
  "metadata": {
    "kernel_info": {
      "name": "python3"
    },
    "kernelspec": {
      "display_name": "Python 3",
      "language": "python",
      "name": "python3"
    },
    "language_info": {
      "codemirror_mode": {
        "name": "ipython",
        "version": 3
      },
      "file_extension": ".py",
      "mimetype": "text/x-python",
      "name": "python",
      "nbconvert_exporter": "python",
      "pygments_lexer": "ipython3",
      "version": "3.12.1"
    },
    "nteract": {
      "version": "0.14.3"
    }
  },
  "nbformat": 4,
  "nbformat_minor": 0
}
